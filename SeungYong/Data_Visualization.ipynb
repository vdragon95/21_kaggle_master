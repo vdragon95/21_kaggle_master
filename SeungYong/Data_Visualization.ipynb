{
  "nbformat": 4,
  "nbformat_minor": 0,
  "metadata": {
    "colab": {
      "name": "Data Visualization.ipynb",
      "provenance": [],
      "collapsed_sections": []
    },
    "kernelspec": {
      "name": "python3",
      "display_name": "Python 3"
    }
  },
  "cells": [
    {
      "cell_type": "markdown",
      "metadata": {
        "id": "M9OdRO53yq_n"
      },
      "source": [
        "Data Visualization: 1 of 8"
      ]
    },
    {
      "cell_type": "code",
      "metadata": {
        "id": "UOEspqGMzCk5"
      },
      "source": [
        "import pandas as pd\r\n",
        "# pd.plotting.register_matplotlib_converters()\r\n",
        "import matplotlib.pyplot as plt\r\n",
        "# %matplotlib inline\r\n",
        "import seaborn as sns\r\n",
        "print(\"Setup Complete\")"
      ],
      "execution_count": null,
      "outputs": []
    },
    {
      "cell_type": "code",
      "metadata": {
        "id": "7OOoazcezhaK"
      },
      "source": [
        "# Path of the file to read\r\n",
        "fifa_filepath = \"../input/fifa.csv\"\r\n",
        "\r\n",
        "# Read the file into a variable fifa_data\r\n",
        "fifa_data = pd.read_csv(fifa_filepath, index_col=\"Date\", parse_dates=True)"
      ],
      "execution_count": null,
      "outputs": []
    },
    {
      "cell_type": "code",
      "metadata": {
        "id": "QSePMSXBzjfl"
      },
      "source": [
        "# Set the width and height of the figure\r\n",
        "plt.figure(figsize=(16,6))\r\n",
        "plt.title(\"title\") # Add title\r\n",
        "sns.set_style(\"dark\") # change style [\"darkgrid\",\"whitegrid\",\"dark\",\"white\",\"ticks\"]\r\n",
        "\r\n",
        "# Line chart\r\n",
        "sns.lineplot(data=fifa_data)\r\n",
        "\r\n",
        "# Bar chart\r\n",
        "sns.barplot(x=flight_data.index, y=flight_data['NK'])\r\n",
        "\r\n",
        "# Heatmap\r\n",
        "sns.heatmap(data=flight_data, annot=True) # annot: value값 표시\r\n",
        "\r\n",
        "# Scatter plot\r\n",
        "sns.scatterplot(x=insurance_data['bmi'], y=insurance_data['charges'])\r\n",
        "sns.regplot(x=insurance_data['bmi'], y=insurance_data['charges']) # add regression line \r\n",
        "sns.scatterplot(x=insurance_data['bmi'], y=insurance_data['charges'], hue=insurance_data['smoker']) # add color classification\r\n",
        "sns.lmplot(x=\"bmi\", y=\"charges\", hue=\"smoker\", data=insurance_data) # add each regression line of hue option\r\n",
        "sns.swarmplot(x=insurance_data['smoker'], y=insurance_data['charges']) # for categorical plot\r\n",
        "# swarmplot의 경우 정확한 통계 수치는 알기 어렵지만 점들이 몰리는 구간을 파악하기 쉽다\r\n",
        "\r\n",
        "# Histograms\r\n",
        "sns.distplot(a=iris_data['Petal Length (cm)'], kde=False)\r\n",
        "\r\n",
        "# Density plots [=  kernel density estimate (KDE) plot]\r\n",
        "sns.kdeplot(data=iris_data['Petal Length (cm)'], shade=True)\r\n",
        "\r\n",
        "# 2D KDE plots\r\n",
        "sns.jointplot(x=iris_data['Petal Length (cm)'], y=iris_data['Sepal Width (cm)'], kind=\"kde\")\r\n",
        "\r\n"
      ],
      "execution_count": null,
      "outputs": []
    },
    {
      "cell_type": "markdown",
      "metadata": {
        "id": "YQuXFsyZGt6I"
      },
      "source": [
        "![](https://imgur.com/2VmgDnF.png)\r\n",
        "\r\n",
        "- Trends (경향): 변화 패턴 파악을 위함.\r\n",
        "    - `sns.lineplot`: 시간 순으로 보기 좋음. 여러 개(multi-line)의 변화를 한눈에 볼수도 있음.\r\n",
        "- Relationship (관계): 변수 간 관계 파악을 위함.\r\n",
        "    - `sns.barplot`: 변수간 수량 비교.\r\n",
        "    - `sns.heatmap`: 변수간 상관 관계 비교.\r\n",
        "    - `sns.scatterplot`: 연속 변수 비교 / 색깔 적용하면 범주형 변수 비교도 가능\r\n",
        "    - `sns.regplot`: 추세선 확인 가능.\r\n",
        "    - `sns.lmplot`: multi 추세선 비교 가능.\r\n",
        "    - `sns.swarmplot`: 범주형 scatter plot으로, 연속형 변수와 범주형 변수 사이의 관계 파악을 위함.\r\n",
        "- Distribution (분류): 어떤 그룹으로 나눌 수 있는 지 가능성을 파악.\r\n",
        "    - `sns.distplot`: Histogram. 한 개의 수치형 변수에 대한 분포도\r\n",
        "    - `sns.kdeplot`: 밀도 그래프(선형 그래프)\r\n",
        "    - `sns.jointplot`: 두 개의 수치형 변수 분포도를 합침."
      ]
    },
    {
      "cell_type": "code",
      "metadata": {
        "id": "civOHzs0bG-H"
      },
      "source": [
        "# 개인적인 코드 공부\r\n",
        "# pandas DataFrame 원하는 데이터 추출 ※ 철자, 소대문자 주의\r\n",
        "ign_data.loc['PC'].max() # index가 'PC'일 경우 최댓값\r\n",
        "ign_data.loc['PlayStation Vita'].idxmin() # idxmin: index가 'PS V'인 데이터 중 value가 최소값인 열 이름 return\r\n",
        "ign_data['racing game'] # column 명이 'racing game'인 경우"
      ],
      "execution_count": null,
      "outputs": []
    }
  ]
}